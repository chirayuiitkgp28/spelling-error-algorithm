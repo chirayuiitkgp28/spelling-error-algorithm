{
 "cells": [
  {
   "cell_type": "code",
   "execution_count": 1,
   "id": "71fef949-1a0d-4c8a-9874-822f516ea298",
   "metadata": {},
   "outputs": [],
   "source": [
    "import numpy as np\n",
    "import matplotlib.pyplot as plt"
   ]
  },
  {
   "cell_type": "code",
   "execution_count": 2,
   "id": "83f9cc99-50c7-48fd-bff6-81e0d3393592",
   "metadata": {},
   "outputs": [],
   "source": [
    "# HERE ARE THE CAREER OPTIONS \n",
    "correct_words = [\"Doctor\", \"Engineer\", \"Teacher\", \"Lawyer\", \"Nurse\", \"Accountant\", \"Police\", \"Architect\", \"Dentist\", \"Pharmacist\"]"
   ]
  },
  {
   "cell_type": "code",
   "execution_count": 3,
   "id": "76c9f634-425b-42fb-b764-5628aeefe0dc",
   "metadata": {},
   "outputs": [],
   "source": [
    "# HERE ARE FEW MISSPELLED WORDS { YOU CAN ADD MORE WORDS IF YOU  WANT , I HAVE TAKEN ONLY 8 WORDS AND PLOTTED GRAPH ON THESE 8 WORDS }\n",
    "misspelled_words = [\"architache\", \"dactar\", \"nurese\", \"lolice\", \"tactor\",\"Dentest\",\"Deontest\",\"Dontist\"]"
   ]
  },
  {
   "cell_type": "code",
   "execution_count": 4,
   "id": "435ce6ca-bfd8-47c6-9654-c68795195ce7",
   "metadata": {},
   "outputs": [],
   "source": [
    "corrected_words = []"
   ]
  },
  {
   "cell_type": "code",
   "execution_count": 5,
   "id": "f049db70-25c3-45fc-8d11-5d73558261cb",
   "metadata": {},
   "outputs": [],
   "source": [
    "# HERE I AM CREATING A FUNCTION THAT WILL CREATE A VECTOR\n",
    "def vectorize_word(word):\n",
    "    vector = {}\n",
    "    for char in word:\n",
    "        if char in vector:\n",
    "            vector[char] += 1\n",
    "        else:\n",
    "            vector[char] = 1\n",
    "    return vector"
   ]
  },
  {
   "cell_type": "code",
   "execution_count": 6,
   "id": "019bea7e-9d49-4b86-b1d5-f7eaab75a9f1",
   "metadata": {},
   "outputs": [],
   "source": [
    "# HERE I AM CREATING A FUNCTION FOR CALCULATING COSINE SIMILARITY\n",
    "def cosine_similarity(vec1, vec2):\n",
    "    all_chars = set(vec1.keys()).union(set(vec2.keys()))\n",
    "    vec1_values = np.array([vec1.get(char, 0) for char in all_chars])\n",
    "    vec2_values = np.array([vec2.get(char, 0) for char in all_chars])\n",
    "    dot_product = np.dot(vec1_values, vec2_values)\n",
    "    magnitude1 = np.sqrt(np.dot(vec1_values, vec1_values))\n",
    "    magnitude2 = np.sqrt(np.dot(vec2_values, vec2_values))\n",
    "    if magnitude1 * magnitude2 == 0:\n",
    "        return 0.0\n",
    "    else:\n",
    "        return dot_product / (magnitude1 * magnitude2)"
   ]
  },
  {
   "cell_type": "code",
   "execution_count": 7,
   "id": "0970d0d2-4b68-47c1-89de-8d3265323efc",
   "metadata": {},
   "outputs": [],
   "source": [
    "# HERE I AM CREATING A FUNCTION WHICH WILL CREATE LEVENSHTEIN DISTANCE \n",
    "def levenshtein_distance(str1, str2):\n",
    "    len_str1 = len(str1) + 1\n",
    "    len_str2 = len(str2) + 1\n",
    "    matrix = np.zeros((len_str1, len_str2))\n",
    "    for x in range(len_str1):\n",
    "        matrix[x, 0] = x\n",
    "    for y in range(len_str2):\n",
    "        matrix[0, y] = y\n",
    "    for x in range(1, len_str1):\n",
    "        for y in range(1, len_str2):\n",
    "            if str1[x - 1] == str2[y - 1]:\n",
    "                cost = 0\n",
    "            else:\n",
    "                cost = 1\n",
    "            matrix[x, y] = min(matrix[x - 1, y] + 1, matrix[x, y - 1] + 1, matrix[x - 1, y - 1] + cost)\n",
    "    return matrix[len_str1 - 1, len_str2 - 1]"
   ]
  },
  {
   "cell_type": "code",
   "execution_count": 8,
   "id": "db47aedb-a4a4-40e7-a4ec-95de852d5a81",
   "metadata": {},
   "outputs": [],
   "source": [
    "for misspelled_word in misspelled_words:\n",
    "    misspelled_vector = vectorize_word(misspelled_word)\n",
    "    highest_similarity = 0\n",
    "    most_similar_word = \"\"\n",
    "    \n",
    "    for correct_word in correct_words:\n",
    "        correct_vector = vectorize_word(correct_word)\n",
    "        similarity = cosine_similarity(misspelled_vector, correct_vector)\n",
    "        lev_distance = levenshtein_distance(misspelled_word, correct_word.lower())\n",
    "        combined_similarity = similarity / (1 + lev_distance)\n",
    "        if combined_similarity > highest_similarity:\n",
    "            highest_similarity = combined_similarity\n",
    "            most_similar_word = correct_word\n",
    "    \n",
    "    corrected_words.append(most_similar_word)"
   ]
  },
  {
   "cell_type": "code",
   "execution_count": 9,
   "id": "a6e819b9-46cc-49b8-a98b-8910075fea82",
   "metadata": {},
   "outputs": [
    {
     "name": "stdout",
     "output_type": "stream",
     "text": [
      "Corrected word for 'architache': Architect\n",
      "Corrected word for 'dactar': Doctor\n",
      "Corrected word for 'nurese': Nurse\n",
      "Corrected word for 'lolice': Police\n",
      "Corrected word for 'tactor': Doctor\n",
      "Corrected word for 'Dentest': Dentist\n",
      "Corrected word for 'Deontest': Dentist\n",
      "Corrected word for 'Dontist': Dentist\n"
     ]
    }
   ],
   "source": [
    "for misspelled_word, corrected_word in zip(misspelled_words, corrected_words):\n",
    "    print(\"Corrected word for '{}': {}\".format(misspelled_word, corrected_word))\n"
   ]
  },
  {
   "cell_type": "code",
   "execution_count": 10,
   "id": "63688e48-be37-4600-9077-454b410cf104",
   "metadata": {},
   "outputs": [],
   "source": [
    "word_frequencies = {}\n",
    "for word in corrected_words:\n",
    "    if word in word_frequencies:\n",
    "        word_frequencies[word] += 1\n",
    "    else:\n",
    "        word_frequencies[word] = 1"
   ]
  },
  {
   "cell_type": "code",
   "execution_count": 11,
   "id": "08aab79f-7a1c-4ae3-a255-e7817b4b38e2",
   "metadata": {},
   "outputs": [
    {
     "data": {
      "image/png": "[encoded data removed]",
      "text/plain": [
       "<Figure size 1000x600 with 1 Axes>"
      ]
     },
     "metadata": {},
     "output_type": "display_data"
    }
   ],
   "source": [
    "# HERE I AM PLOTTING THE FREQUENCY OF THE CARRIER OPTED BY THE STUDENTS \n",
    "plt.figure(figsize=(10, 6))\n",
    "plt.bar(word_frequencies.keys(), word_frequencies.values(), color='PURPLE')\n",
    "plt.xlabel('Corrected Words')\n",
    "plt.ylabel('Frequency')\n",
    "plt.title('Frequency of Corrected Words')\n",
    "plt.xticks(rotation=45)\n",
    "plt.show()"
   ]
  }
 ],
 "metadata": {
  "kernelspec": {
   "display_name": "Python 3 (ipykernel)",
   "language": "python",
   "name": "python3"
  },
  "language_info": {
   "codemirror_mode": {
    "name": "ipython",
    "version": 3
   },
   "file_extension": ".py",
   "mimetype": "text/x-python",
   "name": "python",
   "nbconvert_exporter": "python",
   "pygments_lexer": "ipython3",
   "version": "3.11.7"
  }
 },
 "nbformat": 4,
 "nbformat_minor": 5
}
